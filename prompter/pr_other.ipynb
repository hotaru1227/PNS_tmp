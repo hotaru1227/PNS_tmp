{
 "cells": [
  {
   "cell_type": "code",
   "execution_count": 10,
   "metadata": {},
   "outputs": [
    {
     "name": "stdout",
     "output_type": "stream",
     "text": [
      "Metrics: +--------------+-----------+--------+-------+\n",
      "|    CLASS     | Precision | Recall |   F1  |\n",
      "+--------------+-----------+--------+-------+\n",
      "|  Neoplastic  |   64.78   | 44.68  | 52.88 |\n",
      "| Inflammatory |   57.63   | 47.62  | 52.15 |\n",
      "|  Connective  |   64.37   | 37.92  | 47.72 |\n",
      "|     Dead     |    0.0    |  0.0   |  0.0  |\n",
      "|  Epithelial  |   79.59   | 42.61  |  55.5 |\n",
      "|     ---      |    ---    |  ---   |  ---  |\n",
      "|     Det      |   89.79   | 58.61  | 70.93 |\n",
      "|     Cls      |   53.27   | 34.57  | 41.65 |\n",
      "+--------------+-----------+--------+-------+\n",
      "F1 Score: 41.65\n",
      "Epoch: 107\n"
     ]
    }
   ],
   "source": [
    "import torch\n",
    "\n",
    "# 加载模型\n",
    "checkpoint = torch.load(\"/data/hotaru/projects/PNS_tmp/prompter/checkpoint/pannuke321/best.pth\")\n",
    "\n",
    "# 提取字段信息\n",
    "model_state_dict = checkpoint[\"model\"]\n",
    "metrics = checkpoint[\"metrics\"]\n",
    "f1_score = checkpoint[\"f1\"]\n",
    "epoch = checkpoint[\"epoch\"]\n",
    "\n",
    "# 打印字段信息\n",
    "print(\"Metrics:\", metrics)\n",
    "print(\"F1 Score:\", f1_score)\n",
    "print(\"Epoch:\", epoch)\n"
   ]
  }
 ],
 "metadata": {
  "kernelspec": {
   "display_name": "promptNS",
   "language": "python",
   "name": "python3"
  },
  "language_info": {
   "codemirror_mode": {
    "name": "ipython",
    "version": 3
   },
   "file_extension": ".py",
   "mimetype": "text/x-python",
   "name": "python",
   "nbconvert_exporter": "python",
   "pygments_lexer": "ipython3",
   "version": "3.10.0"
  }
 },
 "nbformat": 4,
 "nbformat_minor": 2
}
