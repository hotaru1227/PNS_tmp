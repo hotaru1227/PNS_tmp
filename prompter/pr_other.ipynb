{
 "cells": [
  {
   "cell_type": "code",
   "execution_count": 3,
   "metadata": {},
   "outputs": [
    {
     "name": "stdout",
     "output_type": "stream",
     "text": [
      "Metrics: +--------------+-----------+--------+-------+\n",
      "|    CLASS     | Precision | Recall |   F1  |\n",
      "+--------------+-----------+--------+-------+\n",
      "|  Neoplastic  |   62.49   | 51.18  | 56.27 |\n",
      "| Inflammatory |   64.35   | 46.44  | 53.95 |\n",
      "|  Connective  |   62.36   | 37.41  | 46.76 |\n",
      "|     Dead     |    0.0    |  0.0   |  0.0  |\n",
      "|  Epithelial  |    79.5   | 46.13  | 58.38 |\n",
      "|     ---      |    ---    |  ---   |  ---  |\n",
      "|     Det      |   88.88   | 61.59  | 72.76 |\n",
      "|     Cls      |   53.74   | 36.23  | 43.07 |\n",
      "+--------------+-----------+--------+-------+\n",
      "F1 Score: 43.07\n",
      "Epoch: 121\n"
     ]
    }
   ],
   "source": [
    "import torch\n",
    "\n",
    "# 加载模型\n",
    "checkpoint = torch.load(\"/data/hotaru/projects/PNS_tmp/prompter/checkpoint/pannuke321/best.pth\")\n",
    "\n",
    "# 提取字段信息\n",
    "model_state_dict = checkpoint[\"model\"]\n",
    "metrics = checkpoint[\"metrics\"]\n",
    "f1_score = checkpoint[\"f1\"]\n",
    "epoch = checkpoint[\"epoch\"]\n",
    "\n",
    "# 打印字段信息\n",
    "print(\"Metrics:\", metrics)\n",
    "print(\"F1 Score:\", f1_score)\n",
    "print(\"Epoch:\", epoch)\n"
   ]
  }
 ],
 "metadata": {
  "kernelspec": {
   "display_name": "promptNS",
   "language": "python",
   "name": "python3"
  },
  "language_info": {
   "codemirror_mode": {
    "name": "ipython",
    "version": 3
   },
   "file_extension": ".py",
   "mimetype": "text/x-python",
   "name": "python",
   "nbconvert_exporter": "python",
   "pygments_lexer": "ipython3",
   "version": "3.10.0"
  }
 },
 "nbformat": 4,
 "nbformat_minor": 2
}
