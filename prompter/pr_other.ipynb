{
 "cells": [
  {
   "cell_type": "code",
   "execution_count": 4,
   "metadata": {},
   "outputs": [
    {
     "name": "stdout",
     "output_type": "stream",
     "text": [
      "没有metrics\n",
      "没有f1\n",
      "没有epoch\n"
     ]
    }
   ],
   "source": [
    "import torch\n",
    "\n",
    "# 加载模型\n",
    "checkpoint = torch.load(\"/data/hotaru/projects/PNS_tmp/prompter/checkpoint/pannuke321/author.pth\")\n",
    "\n",
    "# 提取字段信息\n",
    "model_state_dict = checkpoint[\"model\"]\n",
    "try:\n",
    "    metrics = checkpoint[\"metrics\"]\n",
    "    print(\"Metrics:\", metrics)\n",
    "except:\n",
    "    print(\"没有metrics\")\n",
    "\n",
    "try:\n",
    "    f1_score = checkpoint[\"f1\"]\n",
    "    print(\"F1 Score:\", f1_score)\n",
    "except:\n",
    "    print(\"没有f1\")\n",
    "\n",
    "try:\n",
    "    epoch = checkpoint[\"epoch\"]\n",
    "    print(\"Epoch:\", epoch)\n",
    "except:\n",
    "    print(\"没有epoch\")\n",
    "\n",
    "# 打印字段信息\n",
    "\n",
    "\n",
    "\n"
   ]
  }
 ],
 "metadata": {
  "kernelspec": {
   "display_name": "promptNS",
   "language": "python",
   "name": "python3"
  },
  "language_info": {
   "codemirror_mode": {
    "name": "ipython",
    "version": 3
   },
   "file_extension": ".py",
   "mimetype": "text/x-python",
   "name": "python",
   "nbconvert_exporter": "python",
   "pygments_lexer": "ipython3",
   "version": "3.10.0"
  }
 },
 "nbformat": 4,
 "nbformat_minor": 2
}
